{
 "cells": [
  {
   "cell_type": "code",
   "execution_count": 1,
   "metadata": {},
   "outputs": [],
   "source": [
    "import cv2\n",
    "from ultralytics import YOLO\n",
    "import supervision as sv\n",
    "# from supervision import Detections\n",
    "import numpy as np\n",
    "from IPython.display import clear_output"
   ]
  },
  {
   "cell_type": "code",
   "execution_count": 2,
   "metadata": {},
   "outputs": [
    {
     "data": {
      "text/plain": [
       "True"
      ]
     },
     "execution_count": 2,
     "metadata": {},
     "output_type": "execute_result"
    }
   ],
   "source": [
    "# extract video frame\n",
    "video_path = \"video.mp4\"\n",
    "\n",
    "generator = sv.get_video_frames_generator(video_path)\n",
    "iterator = iter(generator)\n",
    "frame = next(iterator)\n",
    "\n",
    "# save first frame\n",
    "cv2.imwrite(\"first_frame.png\", frame)"
   ]
  },
  {
   "cell_type": "code",
   "execution_count": 3,
   "metadata": {},
   "outputs": [
    {
     "data": {
      "text/plain": [
       "VideoInfo(width=1920, height=1080, fps=30, total_frames=302)"
      ]
     },
     "execution_count": 3,
     "metadata": {},
     "output_type": "execute_result"
    }
   ],
   "source": [
    "# Open the video file\n",
    "cap = cv2.VideoCapture(video_path)\n",
    "\n",
    "video_info = sv.VideoInfo.from_video_path(video_path)\n",
    "frame_rate = video_info.fps\n",
    "frame_width = video_info.width\n",
    "frame_height = video_info.height\n",
    "\n",
    "video_info"
   ]
  },
  {
   "cell_type": "code",
   "execution_count": 4,
   "metadata": {},
   "outputs": [],
   "source": [
    "# Load the YOLOv8 model\n",
    "model = YOLO('yolov8n.pt')"
   ]
  },
  {
   "cell_type": "code",
   "execution_count": 5,
   "metadata": {},
   "outputs": [],
   "source": [
    "# Open the video file\n",
    "out = cv2.VideoWriter('video-with-counter-result.avi', cv2.VideoWriter_fourcc('M','J','P','G'), frame_rate, (frame_width, frame_height))\n",
    "\n",
    "\n",
    "colors = sv.ColorPalette.DEFAULT\n",
    "line_start_point = sv.Point(275,730)\n",
    "line_end_point = sv.Point(947, 922)\n",
    "line_zone = sv.LineZone(line_start_point,line_end_point)\n",
    "line_zone_annotator = sv.LineZoneAnnotator(thickness=4, text_thickness=2, text_scale=1,color=sv.Color.BLUE)\n",
    "\n",
    "\n",
    "polygon_points = [\n",
    "np.array([[1407, 6],[31, 862],[27, 18],[1403, 2]]),\n",
    "np.array([[1807, 6],[787, 1066],[1891, 1062],[1903, 10],[1807, 10]])\n",
    "]\n",
    "\n",
    "\n",
    "    \n",
    "polygon_zones = [sv.PolygonZone(polygon=polygon_point, frame_resolution_wh=video_info.resolution_wh) for polygon_point in polygon_points]\n",
    "polygon_zone_annotators = [sv.PolygonZoneAnnotator(zone=zone,color=colors.by_idx(index),thickness=4,text_thickness=8,text_scale=2) for index, zone in enumerate(polygon_zones)]\n",
    "# Loop through the video frames\n",
    "while cap.isOpened():\n",
    "    # Read a frame from the video\n",
    "    success, frame = cap.read()\n",
    "\n",
    "    if success:\n",
    "        # Run YOLOv8 tracking on the frame, persisting tracks between frames\n",
    "        results = model.track(frame, classes=[0], persist=True, tracker=\"bytetrack.yaml\")\n",
    "        frame = results[0].plot()\n",
    "        detections = sv.Detections.from_ultralytics(results[0])\n",
    "        \n",
    "\n",
    "        line_zone.trigger(detections = detections)\n",
    "        # Visualize the results on the frame\n",
    "        frame = line_zone_annotator.annotate(frame, line_zone)\n",
    "\n",
    "        for polygon_zone, polygon_zone_annotator in zip(polygon_zones,polygon_zone_annotators):\n",
    "            mask = polygon_zone.trigger(detections = detections)\n",
    "            detections_filtered = detections[mask]\n",
    "            frame = polygon_zone_annotator.annotate(frame)\n",
    "        out.write(frame)\n",
    "        \n",
    "        # Display the annotated frame\n",
    "        cv2.imshow(\"YOLOv8 Tracking\", frame)\n",
    "\n",
    "        # Break the loop if 'q' is pressed\n",
    "        if cv2.waitKey(1) & 0xFF == ord(\"q\"):\n",
    "            break\n",
    "    else:\n",
    "        # Break the loop if the end of the video is reached\n",
    "        break\n",
    "\n",
    "# Release the video capture object and close the display window\n",
    "cap.release()\n",
    "cv2.destroyAllWindows()\n",
    "clear_output()"
   ]
  }
 ],
 "metadata": {
  "kernelspec": {
   "display_name": ".venv",
   "language": "python",
   "name": "python3"
  },
  "language_info": {
   "codemirror_mode": {
    "name": "ipython",
    "version": 3
   },
   "file_extension": ".py",
   "mimetype": "text/x-python",
   "name": "python",
   "nbconvert_exporter": "python",
   "pygments_lexer": "ipython3",
   "version": "3.11.7"
  }
 },
 "nbformat": 4,
 "nbformat_minor": 2
}
